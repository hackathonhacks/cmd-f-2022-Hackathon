{
 "cells": [
  {
   "cell_type": "code",
   "execution_count": 10,
   "metadata": {},
   "outputs": [],
   "source": [
    "library(jsonlite)\n",
    "library(tidyverse)\n",
    "library(scales)\n",
    "library(dplyr)\n",
    "library(repr)\n",
    "library(stringr)\n",
    "options(repr.matrix.max.rows = 10)"
   ]
  },
  {
   "cell_type": "code",
   "execution_count": 11,
   "metadata": {},
   "outputs": [],
   "source": [
    "result <- fromJSON(\"data/train.json\")"
   ]
  },
  {
   "cell_type": "code",
   "execution_count": 14,
   "metadata": {},
   "outputs": [],
   "source": [
    "ingredients <- select(result, ingredients) \n",
    "ingredients <- unlist(ingredients)\n",
    "\n",
    "ingredients <- str_c(ingredients, collapse = \",\")\n",
    "        \n",
    "ingredients <- strsplit(ingredients, \",\")"
   ]
  },
  {
   "cell_type": "code",
   "execution_count": 15,
   "metadata": {},
   "outputs": [
    {
     "name": "stderr",
     "output_type": "stream",
     "text": [
      "Warning message:\n",
      "“Missing column names filled in: 'X1' [1]”\n",
      "Parsed with column specification:\n",
      "cols(\n",
      "  X1 = \u001b[32mcol_double()\u001b[39m,\n",
      "  c..romaine.lettuce....black.olives....grape.tomatoes....garlic... = \u001b[31mcol_character()\u001b[39m\n",
      ")\n",
      "\n"
     ]
    },
    {
     "data": {
      "text/html": [
       "<table>\n",
       "<caption>A spec_tbl_df: 6724 × 2</caption>\n",
       "<thead>\n",
       "\t<tr><th scope=col>num</th><th scope=col>ingredients</th></tr>\n",
       "\t<tr><th scope=col>&lt;dbl&gt;</th><th scope=col>&lt;chr&gt;</th></tr>\n",
       "</thead>\n",
       "<tbody>\n",
       "\t<tr><td>1</td><td>romaine lettuce</td></tr>\n",
       "\t<tr><td>2</td><td>black olives   </td></tr>\n",
       "\t<tr><td>3</td><td>grape tomatoes </td></tr>\n",
       "\t<tr><td>4</td><td>garlic         </td></tr>\n",
       "\t<tr><td>5</td><td>pepper         </td></tr>\n",
       "\t<tr><td>⋮</td><td>⋮</td></tr>\n",
       "\t<tr><td>427893</td><td>Lipton® Iced Tea Brew Family Size Tea Bags         </td></tr>\n",
       "\t<tr><td>428037</td><td>Hidden Valley® Greek Yogurt Original Ranch® Dip Mix</td></tr>\n",
       "\t<tr><td>428466</td><td>lop chong                                          </td></tr>\n",
       "\t<tr><td>428550</td><td>tomato garlic pasta sauce                          </td></tr>\n",
       "\t<tr><td>428831</td><td>crushed cheese crackers                            </td></tr>\n",
       "</tbody>\n",
       "</table>\n"
      ],
      "text/latex": [
       "A spec\\_tbl\\_df: 6724 × 2\n",
       "\\begin{tabular}{ll}\n",
       " num & ingredients\\\\\n",
       " <dbl> & <chr>\\\\\n",
       "\\hline\n",
       "\t 1 & romaine lettuce\\\\\n",
       "\t 2 & black olives   \\\\\n",
       "\t 3 & grape tomatoes \\\\\n",
       "\t 4 & garlic         \\\\\n",
       "\t 5 & pepper         \\\\\n",
       "\t ⋮ & ⋮\\\\\n",
       "\t 427893 & Lipton® Iced Tea Brew Family Size Tea Bags         \\\\\n",
       "\t 428037 & Hidden Valley® Greek Yogurt Original Ranch® Dip Mix\\\\\n",
       "\t 428466 & lop chong                                          \\\\\n",
       "\t 428550 & tomato garlic pasta sauce                          \\\\\n",
       "\t 428831 & crushed cheese crackers                            \\\\\n",
       "\\end{tabular}\n"
      ],
      "text/markdown": [
       "\n",
       "A spec_tbl_df: 6724 × 2\n",
       "\n",
       "| num &lt;dbl&gt; | ingredients &lt;chr&gt; |\n",
       "|---|---|\n",
       "| 1 | romaine lettuce |\n",
       "| 2 | black olives    |\n",
       "| 3 | grape tomatoes  |\n",
       "| 4 | garlic          |\n",
       "| 5 | pepper          |\n",
       "| ⋮ | ⋮ |\n",
       "| 427893 | Lipton® Iced Tea Brew Family Size Tea Bags          |\n",
       "| 428037 | Hidden Valley® Greek Yogurt Original Ranch® Dip Mix |\n",
       "| 428466 | lop chong                                           |\n",
       "| 428550 | tomato garlic pasta sauce                           |\n",
       "| 428831 | crushed cheese crackers                             |\n",
       "\n"
      ],
      "text/plain": [
       "     num    ingredients                                        \n",
       "1    1      romaine lettuce                                    \n",
       "2    2      black olives                                       \n",
       "3    3      grape tomatoes                                     \n",
       "4    4      garlic                                             \n",
       "5    5      pepper                                             \n",
       "⋮    ⋮      ⋮                                                  \n",
       "6720 427893 Lipton® Iced Tea Brew Family Size Tea Bags         \n",
       "6721 428037 Hidden Valley® Greek Yogurt Original Ranch® Dip Mix\n",
       "6722 428466 lop chong                                          \n",
       "6723 428550 tomato garlic pasta sauce                          \n",
       "6724 428831 crushed cheese crackers                            "
      ]
     },
     "metadata": {},
     "output_type": "display_data"
    }
   ],
   "source": [
    "ingredients_data <- read_csv(\"ingredients_data.csv\")\n",
    "ingredients_data <- setNames(ingredients_data, c(\"num\",\"ingredients\"))\n",
    "ingredients_data <- ingredients_data %>%\n",
    "                    filter(!duplicated(ingredients))\n",
    "ingredients_data"
   ]
  },
  {
   "cell_type": "code",
   "execution_count": 16,
   "metadata": {},
   "outputs": [
    {
     "data": {
      "text/html": [
       "<table>\n",
       "<caption>A tibble: 6724 × 1</caption>\n",
       "<thead>\n",
       "\t<tr><th scope=col>ingredients</th></tr>\n",
       "\t<tr><th scope=col>&lt;chr&gt;</th></tr>\n",
       "</thead>\n",
       "<tbody>\n",
       "\t<tr><td>romaine lettuce</td></tr>\n",
       "\t<tr><td>black olives   </td></tr>\n",
       "\t<tr><td>grape tomatoes </td></tr>\n",
       "\t<tr><td>garlic         </td></tr>\n",
       "\t<tr><td>pepper         </td></tr>\n",
       "\t<tr><td>⋮</td></tr>\n",
       "\t<tr><td>Lipton® Iced Tea Brew Family Size Tea Bags         </td></tr>\n",
       "\t<tr><td>Hidden Valley® Greek Yogurt Original Ranch® Dip Mix</td></tr>\n",
       "\t<tr><td>lop chong                                          </td></tr>\n",
       "\t<tr><td>tomato garlic pasta sauce                          </td></tr>\n",
       "\t<tr><td>crushed cheese crackers                            </td></tr>\n",
       "</tbody>\n",
       "</table>\n"
      ],
      "text/latex": [
       "A tibble: 6724 × 1\n",
       "\\begin{tabular}{l}\n",
       " ingredients\\\\\n",
       " <chr>\\\\\n",
       "\\hline\n",
       "\t romaine lettuce\\\\\n",
       "\t black olives   \\\\\n",
       "\t grape tomatoes \\\\\n",
       "\t garlic         \\\\\n",
       "\t pepper         \\\\\n",
       "\t ⋮\\\\\n",
       "\t Lipton® Iced Tea Brew Family Size Tea Bags         \\\\\n",
       "\t Hidden Valley® Greek Yogurt Original Ranch® Dip Mix\\\\\n",
       "\t lop chong                                          \\\\\n",
       "\t tomato garlic pasta sauce                          \\\\\n",
       "\t crushed cheese crackers                            \\\\\n",
       "\\end{tabular}\n"
      ],
      "text/markdown": [
       "\n",
       "A tibble: 6724 × 1\n",
       "\n",
       "| ingredients &lt;chr&gt; |\n",
       "|---|\n",
       "| romaine lettuce |\n",
       "| black olives    |\n",
       "| grape tomatoes  |\n",
       "| garlic          |\n",
       "| pepper          |\n",
       "| ⋮ |\n",
       "| Lipton® Iced Tea Brew Family Size Tea Bags          |\n",
       "| Hidden Valley® Greek Yogurt Original Ranch® Dip Mix |\n",
       "| lop chong                                           |\n",
       "| tomato garlic pasta sauce                           |\n",
       "| crushed cheese crackers                             |\n",
       "\n"
      ],
      "text/plain": [
       "     ingredients                                        \n",
       "1    romaine lettuce                                    \n",
       "2    black olives                                       \n",
       "3    grape tomatoes                                     \n",
       "4    garlic                                             \n",
       "5    pepper                                             \n",
       "⋮    ⋮                                                  \n",
       "6720 Lipton® Iced Tea Brew Family Size Tea Bags         \n",
       "6721 Hidden Valley® Greek Yogurt Original Ranch® Dip Mix\n",
       "6722 lop chong                                          \n",
       "6723 tomato garlic pasta sauce                          \n",
       "6724 crushed cheese crackers                            "
      ]
     },
     "metadata": {},
     "output_type": "display_data"
    }
   ],
   "source": [
    "ingredients_data <- select(ingredients_data, ingredients)\n",
    "ingredients_data"
   ]
  }
 ],
 "metadata": {
  "kernelspec": {
   "display_name": "R",
   "language": "R",
   "name": "ir"
  },
  "language_info": {
   "codemirror_mode": "r",
   "file_extension": ".r",
   "mimetype": "text/x-r-source",
   "name": "R",
   "pygments_lexer": "r",
   "version": "4.0.0"
  }
 },
 "nbformat": 4,
 "nbformat_minor": 4
}
